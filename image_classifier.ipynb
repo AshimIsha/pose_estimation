{
 "cells": [
  {
   "cell_type": "code",
   "id": "initial_id",
   "metadata": {
    "collapsed": true,
    "ExecuteTime": {
     "end_time": "2024-04-14T23:46:19.841288Z",
     "start_time": "2024-04-14T23:46:19.825667Z"
    }
   },
   "source": [
    "import tensorflow as tf\n",
    "import pandas as pd\n",
    "import numpy as np\n",
    "from sklearn.model_selection import train_test_split"
   ],
   "outputs": [],
   "execution_count": 11
  },
  {
   "metadata": {
    "ExecuteTime": {
     "end_time": "2024-04-14T23:46:20.125224Z",
     "start_time": "2024-04-14T23:46:19.950635Z"
    }
   },
   "cell_type": "code",
   "source": [
    "frames_df = pd.read_csv('frames_pose.csv')\n",
    "frames_df"
   ],
   "id": "abad51b1a7394069",
   "outputs": [
    {
     "data": {
      "text/plain": [
       "              video               frame_path          label\n",
       "0       GcluCxjiSjI      frames_pose/0_0.jpg    tap dancing\n",
       "1       GcluCxjiSjI      frames_pose/0_1.jpg    tap dancing\n",
       "2       GcluCxjiSjI      frames_pose/0_2.jpg    tap dancing\n",
       "3       GcluCxjiSjI      frames_pose/0_3.jpg    tap dancing\n",
       "4       GcluCxjiSjI      frames_pose/0_4.jpg    tap dancing\n",
       "...             ...                      ...            ...\n",
       "121497  LT-e_wj6d9w  frames_pose/617_195.jpg  tango dancing\n",
       "121498  LT-e_wj6d9w  frames_pose/617_196.jpg  tango dancing\n",
       "121499  LT-e_wj6d9w  frames_pose/617_197.jpg  tango dancing\n",
       "121500  LT-e_wj6d9w  frames_pose/617_198.jpg  tango dancing\n",
       "121501  LT-e_wj6d9w  frames_pose/617_199.jpg  tango dancing\n",
       "\n",
       "[121502 rows x 3 columns]"
      ],
      "text/html": [
       "<div>\n",
       "<style scoped>\n",
       "    .dataframe tbody tr th:only-of-type {\n",
       "        vertical-align: middle;\n",
       "    }\n",
       "\n",
       "    .dataframe tbody tr th {\n",
       "        vertical-align: top;\n",
       "    }\n",
       "\n",
       "    .dataframe thead th {\n",
       "        text-align: right;\n",
       "    }\n",
       "</style>\n",
       "<table border=\"1\" class=\"dataframe\">\n",
       "  <thead>\n",
       "    <tr style=\"text-align: right;\">\n",
       "      <th></th>\n",
       "      <th>video</th>\n",
       "      <th>frame_path</th>\n",
       "      <th>label</th>\n",
       "    </tr>\n",
       "  </thead>\n",
       "  <tbody>\n",
       "    <tr>\n",
       "      <th>0</th>\n",
       "      <td>GcluCxjiSjI</td>\n",
       "      <td>frames_pose/0_0.jpg</td>\n",
       "      <td>tap dancing</td>\n",
       "    </tr>\n",
       "    <tr>\n",
       "      <th>1</th>\n",
       "      <td>GcluCxjiSjI</td>\n",
       "      <td>frames_pose/0_1.jpg</td>\n",
       "      <td>tap dancing</td>\n",
       "    </tr>\n",
       "    <tr>\n",
       "      <th>2</th>\n",
       "      <td>GcluCxjiSjI</td>\n",
       "      <td>frames_pose/0_2.jpg</td>\n",
       "      <td>tap dancing</td>\n",
       "    </tr>\n",
       "    <tr>\n",
       "      <th>3</th>\n",
       "      <td>GcluCxjiSjI</td>\n",
       "      <td>frames_pose/0_3.jpg</td>\n",
       "      <td>tap dancing</td>\n",
       "    </tr>\n",
       "    <tr>\n",
       "      <th>4</th>\n",
       "      <td>GcluCxjiSjI</td>\n",
       "      <td>frames_pose/0_4.jpg</td>\n",
       "      <td>tap dancing</td>\n",
       "    </tr>\n",
       "    <tr>\n",
       "      <th>...</th>\n",
       "      <td>...</td>\n",
       "      <td>...</td>\n",
       "      <td>...</td>\n",
       "    </tr>\n",
       "    <tr>\n",
       "      <th>121497</th>\n",
       "      <td>LT-e_wj6d9w</td>\n",
       "      <td>frames_pose/617_195.jpg</td>\n",
       "      <td>tango dancing</td>\n",
       "    </tr>\n",
       "    <tr>\n",
       "      <th>121498</th>\n",
       "      <td>LT-e_wj6d9w</td>\n",
       "      <td>frames_pose/617_196.jpg</td>\n",
       "      <td>tango dancing</td>\n",
       "    </tr>\n",
       "    <tr>\n",
       "      <th>121499</th>\n",
       "      <td>LT-e_wj6d9w</td>\n",
       "      <td>frames_pose/617_197.jpg</td>\n",
       "      <td>tango dancing</td>\n",
       "    </tr>\n",
       "    <tr>\n",
       "      <th>121500</th>\n",
       "      <td>LT-e_wj6d9w</td>\n",
       "      <td>frames_pose/617_198.jpg</td>\n",
       "      <td>tango dancing</td>\n",
       "    </tr>\n",
       "    <tr>\n",
       "      <th>121501</th>\n",
       "      <td>LT-e_wj6d9w</td>\n",
       "      <td>frames_pose/617_199.jpg</td>\n",
       "      <td>tango dancing</td>\n",
       "    </tr>\n",
       "  </tbody>\n",
       "</table>\n",
       "<p>121502 rows × 3 columns</p>\n",
       "</div>"
      ]
     },
     "execution_count": 12,
     "metadata": {},
     "output_type": "execute_result"
    }
   ],
   "execution_count": 12
  },
  {
   "metadata": {
    "ExecuteTime": {
     "end_time": "2024-04-14T23:46:20.156467Z",
     "start_time": "2024-04-14T23:46:20.125224Z"
    }
   },
   "cell_type": "code",
   "source": "train_frames, test_frames, train_classes, test_classes = train_test_split(frames_df['frame_path'], frames_df['label'], test_size=0.3, random_state=2024)",
   "id": "10f16995f0f20e4",
   "outputs": [],
   "execution_count": 13
  },
  {
   "metadata": {
    "ExecuteTime": {
     "end_time": "2024-04-14T23:46:20.187709Z",
     "start_time": "2024-04-14T23:46:20.156467Z"
    }
   },
   "cell_type": "code",
   "source": "label_to_int = {label_name: i for i, label_name in enumerate(set(frames_df['label']))}",
   "id": "8318aa7dd9c2b613",
   "outputs": [],
   "execution_count": 14
  },
  {
   "metadata": {
    "ExecuteTime": {
     "end_time": "2024-04-14T23:46:20.209612Z",
     "start_time": "2024-04-14T23:46:20.187709Z"
    }
   },
   "cell_type": "code",
   "source": "label_to_int",
   "id": "d806ae10fe752006",
   "outputs": [
    {
     "data": {
      "text/plain": [
       "{'country line dancing': 0,\n",
       " 'dancing macarena': 1,\n",
       " 'swing dancing': 2,\n",
       " 'tango dancing': 3,\n",
       " 'jumpstyle dancing': 4,\n",
       " 'belly dancing': 5,\n",
       " 'breakdancing': 6,\n",
       " 'dancing ballet': 7,\n",
       " 'dancing charleston': 8,\n",
       " 'salsa dancing': 9,\n",
       " 'mosh pit dancing': 10,\n",
       " 'dancing gangnam style': 11,\n",
       " 'tap dancing': 12,\n",
       " 'robot dancing': 13,\n",
       " 'square dancing': 14}"
      ]
     },
     "execution_count": 15,
     "metadata": {},
     "output_type": "execute_result"
    }
   ],
   "execution_count": 15
  },
  {
   "metadata": {},
   "cell_type": "markdown",
   "source": "",
   "id": "86f78cb71223c04f"
  },
  {
   "metadata": {
    "ExecuteTime": {
     "end_time": "2024-04-14T23:46:20.240854Z",
     "start_time": "2024-04-14T23:46:20.209612Z"
    }
   },
   "cell_type": "code",
   "source": [
    "train_labels = [label_to_int[label_name] for label_name in train_classes]\n",
    "test_labels = [label_to_int[label_name] for label_name in test_classes]"
   ],
   "id": "43299d04e9a4da7",
   "outputs": [],
   "execution_count": 16
  },
  {
   "metadata": {
    "ExecuteTime": {
     "end_time": "2024-04-14T23:46:20.256477Z",
     "start_time": "2024-04-14T23:46:20.240854Z"
    }
   },
   "cell_type": "code",
   "source": [
    "def load_n_preprocess(frame_path, label):\n",
    "    image = tf.io.read_file(frame_path)\n",
    "    image = tf.image.decode_jpeg(image, channels = 3)\n",
    "    image = tf.image.resize(image, [224,224])\n",
    "    image = image / 225\n",
    "    return image, label"
   ],
   "id": "7a0edf4ce64645b5",
   "outputs": [],
   "execution_count": 17
  },
  {
   "metadata": {
    "ExecuteTime": {
     "end_time": "2024-04-14T23:46:20.272097Z",
     "start_time": "2024-04-14T23:46:20.256477Z"
    }
   },
   "cell_type": "code",
   "source": [
    "def lnp_all_images(frame_path, labels):\n",
    "    images = [load_n_preprocess(frame_path) for frame_path in frames_df['frame_path']]\n",
    "    return tf.stack(images), labels"
   ],
   "id": "edb9b23d2d8f5f13",
   "outputs": [],
   "execution_count": 18
  },
  {
   "metadata": {
    "ExecuteTime": {
     "end_time": "2024-04-14T23:46:20.350204Z",
     "start_time": "2024-04-14T23:46:20.272097Z"
    }
   },
   "cell_type": "code",
   "source": [
    "train_frames_tensor = tf.convert_to_tensor(train_frames)\n",
    "train_labels_tensor = tf.convert_to_tensor(train_labels)\n",
    "\n",
    "test_frames_tensor = tf.convert_to_tensor(test_frames)\n",
    "test_labels_tensor = tf.convert_to_tensor(test_labels)"
   ],
   "id": "37993d15adbd1a49",
   "outputs": [],
   "execution_count": 19
  },
  {
   "metadata": {
    "ExecuteTime": {
     "end_time": "2024-04-14T23:46:20.428340Z",
     "start_time": "2024-04-14T23:46:20.350204Z"
    }
   },
   "cell_type": "code",
   "source": [
    "train_dataset = tf.data.Dataset.from_tensor_slices((train_frames_tensor, train_labels_tensor))\n",
    "train_dataset = train_dataset.map(load_n_preprocess)\n",
    "train_dataset = train_dataset.apply(tf.data.experimental.shuffle_and_repeat(40000)).batch(64)"
   ],
   "id": "7d488f6fd88a26da",
   "outputs": [],
   "execution_count": 20
  },
  {
   "metadata": {
    "ExecuteTime": {
     "end_time": "2024-04-14T23:46:20.459556Z",
     "start_time": "2024-04-14T23:46:20.428340Z"
    }
   },
   "cell_type": "code",
   "source": [
    "test_dataset = tf.data.Dataset.from_tensor_slices((test_frames_tensor, test_labels_tensor))\n",
    "test_dataset = test_dataset.map(load_n_preprocess)\n",
    "test_dataset = test_dataset.apply(tf.data.experimental.shuffle_and_repeat(40000)).batch(64)\n"
   ],
   "id": "6d887cef35e6b8c8",
   "outputs": [],
   "execution_count": 21
  },
  {
   "metadata": {
    "ExecuteTime": {
     "end_time": "2024-04-14T23:46:22.351327Z",
     "start_time": "2024-04-14T23:46:20.459556Z"
    }
   },
   "cell_type": "code",
   "source": [
    "base_model = tf.keras.applications.ResNet50(include_top=False, weights='imagenet', input_shape=(224,224,3))\n",
    "base_model.trainable = False\n",
    "\n",
    "model = tf.keras.Sequential([\n",
    "    base_model,\n",
    "    tf.keras.layers.GlobalAveragePooling2D(),\n",
    "    tf.keras.layers.Dense(15, activation='softmax')\n",
    "])"
   ],
   "id": "d907869a253e5229",
   "outputs": [],
   "execution_count": 22
  },
  {
   "metadata": {
    "ExecuteTime": {
     "end_time": "2024-04-14T23:46:22.366952Z",
     "start_time": "2024-04-14T23:46:22.351327Z"
    }
   },
   "cell_type": "code",
   "source": [
    "loss_fn = tf.keras.losses.SparseCategoricalCrossentropy()\n",
    "optimizer = tf.keras.optimizers.Adam()"
   ],
   "id": "f95117ea9219c326",
   "outputs": [],
   "execution_count": 23
  },
  {
   "metadata": {
    "ExecuteTime": {
     "end_time": "2024-04-14T23:46:22.382569Z",
     "start_time": "2024-04-14T23:46:22.366952Z"
    }
   },
   "cell_type": "code",
   "source": "accuracy_metric = tf.keras.metrics.SparseCategoricalAccuracy()",
   "id": "4c8a181e94619efb",
   "outputs": [],
   "execution_count": 24
  },
  {
   "metadata": {
    "ExecuteTime": {
     "end_time": "2024-04-14T23:46:22.398191Z",
     "start_time": "2024-04-14T23:46:22.382569Z"
    }
   },
   "cell_type": "code",
   "source": [
    "# @tf.function\n",
    "# def train_step(images, labels):\n",
    "#     with tf.GradientTape() as tape:\n",
    "#         logits = model(images, training=True)\n",
    "#         loss = loss_fn(labels, logits)\n",
    "#     gradients = tape.gradient(loss, model.trainable_variables)\n",
    "#     optimizer.apply_gradients(zip(gradients, model.trainable_variables))\n",
    "#     accuracy = accuracy_metric(labels, logits)\n",
    "#     return loss, accuracy"
   ],
   "id": "f1afa4d56b916759",
   "outputs": [],
   "execution_count": 25
  },
  {
   "metadata": {
    "ExecuteTime": {
     "end_time": "2024-04-14T23:46:22.413815Z",
     "start_time": "2024-04-14T23:46:22.398191Z"
    }
   },
   "cell_type": "code",
   "source": [
    "# @tf.function\n",
    "# def test_step(images, labels):\n",
    "#     logits = model(images, training=False)\n",
    "#     loss = loss_fn(labels, logits)\n",
    "#     accuracy = accuracy_metric(labels, logits)\n",
    "#     return loss, accuracy"
   ],
   "id": "745856292f22b875",
   "outputs": [],
   "execution_count": 26
  },
  {
   "metadata": {
    "ExecuteTime": {
     "end_time": "2024-04-14T23:46:22.429461Z",
     "start_time": "2024-04-14T23:46:22.413815Z"
    }
   },
   "cell_type": "code",
   "source": "num_epochs = 20",
   "id": "449cde9979e5efcb",
   "outputs": [],
   "execution_count": 27
  },
  {
   "metadata": {
    "ExecuteTime": {
     "end_time": "2024-04-14T23:46:22.445055Z",
     "start_time": "2024-04-14T23:46:22.429461Z"
    }
   },
   "cell_type": "code",
   "source": [
    "# for epoch in range(num_epochs):\n",
    "#     print('Epoch {}/{}'.format(epoch + 1, num_epochs))\n",
    "#     accuracy_metric.reset_state()\n",
    "# \n",
    "#     for images, labels in train_dataset:\n",
    "#         loss, accuracy = train_step(images, labels)\n",
    "#         accuracy_metric.update_state(accuracy, labels)\n",
    "#         print('Loss: {}, Accuracy: {}'.format(loss, accuracy))\n",
    "# \n",
    "#     print(f\"Epoch accuracy: {accuracy_metric.result().numpy()}\")\n",
    "# \n",
    "#     accuracy_metric.reset_state()\n",
    "#     for images, labels in test_dataset:\n",
    "#         loss, accuracy = test_step(images, labels)\n",
    "#         accuracy_metric.update_state(accuracy, labels)\n",
    "#         print('Loss: {}, Accuracy: {}'.format(loss, accuracy))\n",
    "# \n",
    "#     print(f\"Epoch accuracy: {accuracy_metric.result().numpy()}\")"
   ],
   "id": "926ae59d03e55a06",
   "outputs": [],
   "execution_count": 28
  },
  {
   "metadata": {
    "ExecuteTime": {
     "end_time": "2024-04-14T23:46:22.461132Z",
     "start_time": "2024-04-14T23:46:22.445055Z"
    }
   },
   "cell_type": "code",
   "source": "model.compile(optimizer=optimizer, loss=loss_fn, metrics=[accuracy_metric])",
   "id": "d7be05417ed18184",
   "outputs": [],
   "execution_count": 29
  },
  {
   "metadata": {
    "ExecuteTime": {
     "end_time": "2024-04-15T22:11:52.959006Z",
     "start_time": "2024-04-14T23:46:22.461132Z"
    }
   },
   "cell_type": "code",
   "source": [
    "history = model.fit(\n",
    "    train_dataset,\n",
    "    epochs=num_epochs,\n",
    "    validation_data=test_dataset\n",
    ")"
   ],
   "id": "1808f9f1d2c433ec",
   "outputs": [
    {
     "name": "stdout",
     "output_type": "stream",
     "text": [
      "Epoch 1/20\n",
      "  40183/Unknown \u001B[1m80724s\u001B[0m 2s/step - loss: 2.0530 - sparse_categorical_accuracy: 0.3591"
     ]
    },
    {
     "ename": "KeyboardInterrupt",
     "evalue": "",
     "output_type": "error",
     "traceback": [
      "\u001B[1;31m---------------------------------------------------------------------------\u001B[0m",
      "\u001B[1;31mKeyboardInterrupt\u001B[0m                         Traceback (most recent call last)",
      "Cell \u001B[1;32mIn[30], line 1\u001B[0m\n\u001B[1;32m----> 1\u001B[0m history \u001B[38;5;241m=\u001B[39m \u001B[43mmodel\u001B[49m\u001B[38;5;241;43m.\u001B[39;49m\u001B[43mfit\u001B[49m\u001B[43m(\u001B[49m\n\u001B[0;32m      2\u001B[0m \u001B[43m    \u001B[49m\u001B[43mtrain_dataset\u001B[49m\u001B[43m,\u001B[49m\n\u001B[0;32m      3\u001B[0m \u001B[43m    \u001B[49m\u001B[43mepochs\u001B[49m\u001B[38;5;241;43m=\u001B[39;49m\u001B[43mnum_epochs\u001B[49m\u001B[43m,\u001B[49m\n\u001B[0;32m      4\u001B[0m \u001B[43m    \u001B[49m\u001B[43mvalidation_data\u001B[49m\u001B[38;5;241;43m=\u001B[39;49m\u001B[43mtest_dataset\u001B[49m\n\u001B[0;32m      5\u001B[0m \u001B[43m)\u001B[49m\n",
      "File \u001B[1;32m~\\PycharmProjects\\action_recognition\\venv\\lib\\site-packages\\keras\\src\\utils\\traceback_utils.py:117\u001B[0m, in \u001B[0;36mfilter_traceback.<locals>.error_handler\u001B[1;34m(*args, **kwargs)\u001B[0m\n\u001B[0;32m    115\u001B[0m filtered_tb \u001B[38;5;241m=\u001B[39m \u001B[38;5;28;01mNone\u001B[39;00m\n\u001B[0;32m    116\u001B[0m \u001B[38;5;28;01mtry\u001B[39;00m:\n\u001B[1;32m--> 117\u001B[0m     \u001B[38;5;28;01mreturn\u001B[39;00m fn(\u001B[38;5;241m*\u001B[39margs, \u001B[38;5;241m*\u001B[39m\u001B[38;5;241m*\u001B[39mkwargs)\n\u001B[0;32m    118\u001B[0m \u001B[38;5;28;01mexcept\u001B[39;00m \u001B[38;5;167;01mException\u001B[39;00m \u001B[38;5;28;01mas\u001B[39;00m e:\n\u001B[0;32m    119\u001B[0m     filtered_tb \u001B[38;5;241m=\u001B[39m _process_traceback_frames(e\u001B[38;5;241m.\u001B[39m__traceback__)\n",
      "File \u001B[1;32m~\\PycharmProjects\\action_recognition\\venv\\lib\\site-packages\\keras\\src\\backend\\tensorflow\\trainer.py:329\u001B[0m, in \u001B[0;36mTensorFlowTrainer.fit\u001B[1;34m(self, x, y, batch_size, epochs, verbose, callbacks, validation_split, validation_data, shuffle, class_weight, sample_weight, initial_epoch, steps_per_epoch, validation_steps, validation_batch_size, validation_freq)\u001B[0m\n\u001B[0;32m    327\u001B[0m \u001B[38;5;28;01mfor\u001B[39;00m step, iterator \u001B[38;5;129;01min\u001B[39;00m epoch_iterator\u001B[38;5;241m.\u001B[39menumerate_epoch():\n\u001B[0;32m    328\u001B[0m     callbacks\u001B[38;5;241m.\u001B[39mon_train_batch_begin(step)\n\u001B[1;32m--> 329\u001B[0m     logs \u001B[38;5;241m=\u001B[39m \u001B[38;5;28;43mself\u001B[39;49m\u001B[38;5;241;43m.\u001B[39;49m\u001B[43mtrain_function\u001B[49m\u001B[43m(\u001B[49m\u001B[43miterator\u001B[49m\u001B[43m)\u001B[49m\n\u001B[0;32m    330\u001B[0m     callbacks\u001B[38;5;241m.\u001B[39mon_train_batch_end(\n\u001B[0;32m    331\u001B[0m         step, \u001B[38;5;28mself\u001B[39m\u001B[38;5;241m.\u001B[39m_pythonify_logs(logs)\n\u001B[0;32m    332\u001B[0m     )\n\u001B[0;32m    333\u001B[0m     \u001B[38;5;28;01mif\u001B[39;00m \u001B[38;5;28mself\u001B[39m\u001B[38;5;241m.\u001B[39mstop_training:\n",
      "File \u001B[1;32m~\\PycharmProjects\\action_recognition\\venv\\lib\\site-packages\\tensorflow\\python\\util\\traceback_utils.py:150\u001B[0m, in \u001B[0;36mfilter_traceback.<locals>.error_handler\u001B[1;34m(*args, **kwargs)\u001B[0m\n\u001B[0;32m    148\u001B[0m filtered_tb \u001B[38;5;241m=\u001B[39m \u001B[38;5;28;01mNone\u001B[39;00m\n\u001B[0;32m    149\u001B[0m \u001B[38;5;28;01mtry\u001B[39;00m:\n\u001B[1;32m--> 150\u001B[0m   \u001B[38;5;28;01mreturn\u001B[39;00m fn(\u001B[38;5;241m*\u001B[39margs, \u001B[38;5;241m*\u001B[39m\u001B[38;5;241m*\u001B[39mkwargs)\n\u001B[0;32m    151\u001B[0m \u001B[38;5;28;01mexcept\u001B[39;00m \u001B[38;5;167;01mException\u001B[39;00m \u001B[38;5;28;01mas\u001B[39;00m e:\n\u001B[0;32m    152\u001B[0m   filtered_tb \u001B[38;5;241m=\u001B[39m _process_traceback_frames(e\u001B[38;5;241m.\u001B[39m__traceback__)\n",
      "File \u001B[1;32m~\\PycharmProjects\\action_recognition\\venv\\lib\\site-packages\\tensorflow\\python\\eager\\polymorphic_function\\polymorphic_function.py:833\u001B[0m, in \u001B[0;36mFunction.__call__\u001B[1;34m(self, *args, **kwds)\u001B[0m\n\u001B[0;32m    830\u001B[0m compiler \u001B[38;5;241m=\u001B[39m \u001B[38;5;124m\"\u001B[39m\u001B[38;5;124mxla\u001B[39m\u001B[38;5;124m\"\u001B[39m \u001B[38;5;28;01mif\u001B[39;00m \u001B[38;5;28mself\u001B[39m\u001B[38;5;241m.\u001B[39m_jit_compile \u001B[38;5;28;01melse\u001B[39;00m \u001B[38;5;124m\"\u001B[39m\u001B[38;5;124mnonXla\u001B[39m\u001B[38;5;124m\"\u001B[39m\n\u001B[0;32m    832\u001B[0m \u001B[38;5;28;01mwith\u001B[39;00m OptionalXlaContext(\u001B[38;5;28mself\u001B[39m\u001B[38;5;241m.\u001B[39m_jit_compile):\n\u001B[1;32m--> 833\u001B[0m   result \u001B[38;5;241m=\u001B[39m \u001B[38;5;28mself\u001B[39m\u001B[38;5;241m.\u001B[39m_call(\u001B[38;5;241m*\u001B[39margs, \u001B[38;5;241m*\u001B[39m\u001B[38;5;241m*\u001B[39mkwds)\n\u001B[0;32m    835\u001B[0m new_tracing_count \u001B[38;5;241m=\u001B[39m \u001B[38;5;28mself\u001B[39m\u001B[38;5;241m.\u001B[39mexperimental_get_tracing_count()\n\u001B[0;32m    836\u001B[0m without_tracing \u001B[38;5;241m=\u001B[39m (tracing_count \u001B[38;5;241m==\u001B[39m new_tracing_count)\n",
      "File \u001B[1;32m~\\PycharmProjects\\action_recognition\\venv\\lib\\site-packages\\tensorflow\\python\\eager\\polymorphic_function\\polymorphic_function.py:878\u001B[0m, in \u001B[0;36mFunction._call\u001B[1;34m(self, *args, **kwds)\u001B[0m\n\u001B[0;32m    875\u001B[0m \u001B[38;5;28mself\u001B[39m\u001B[38;5;241m.\u001B[39m_lock\u001B[38;5;241m.\u001B[39mrelease()\n\u001B[0;32m    876\u001B[0m \u001B[38;5;66;03m# In this case we have not created variables on the first call. So we can\u001B[39;00m\n\u001B[0;32m    877\u001B[0m \u001B[38;5;66;03m# run the first trace but we should fail if variables are created.\u001B[39;00m\n\u001B[1;32m--> 878\u001B[0m results \u001B[38;5;241m=\u001B[39m \u001B[43mtracing_compilation\u001B[49m\u001B[38;5;241;43m.\u001B[39;49m\u001B[43mcall_function\u001B[49m\u001B[43m(\u001B[49m\n\u001B[0;32m    879\u001B[0m \u001B[43m    \u001B[49m\u001B[43margs\u001B[49m\u001B[43m,\u001B[49m\u001B[43m \u001B[49m\u001B[43mkwds\u001B[49m\u001B[43m,\u001B[49m\u001B[43m \u001B[49m\u001B[38;5;28;43mself\u001B[39;49m\u001B[38;5;241;43m.\u001B[39;49m\u001B[43m_variable_creation_config\u001B[49m\n\u001B[0;32m    880\u001B[0m \u001B[43m\u001B[49m\u001B[43m)\u001B[49m\n\u001B[0;32m    881\u001B[0m \u001B[38;5;28;01mif\u001B[39;00m \u001B[38;5;28mself\u001B[39m\u001B[38;5;241m.\u001B[39m_created_variables:\n\u001B[0;32m    882\u001B[0m   \u001B[38;5;28;01mraise\u001B[39;00m \u001B[38;5;167;01mValueError\u001B[39;00m(\u001B[38;5;124m\"\u001B[39m\u001B[38;5;124mCreating variables on a non-first call to a function\u001B[39m\u001B[38;5;124m\"\u001B[39m\n\u001B[0;32m    883\u001B[0m                    \u001B[38;5;124m\"\u001B[39m\u001B[38;5;124m decorated with tf.function.\u001B[39m\u001B[38;5;124m\"\u001B[39m)\n",
      "File \u001B[1;32m~\\PycharmProjects\\action_recognition\\venv\\lib\\site-packages\\tensorflow\\python\\eager\\polymorphic_function\\tracing_compilation.py:139\u001B[0m, in \u001B[0;36mcall_function\u001B[1;34m(args, kwargs, tracing_options)\u001B[0m\n\u001B[0;32m    137\u001B[0m bound_args \u001B[38;5;241m=\u001B[39m function\u001B[38;5;241m.\u001B[39mfunction_type\u001B[38;5;241m.\u001B[39mbind(\u001B[38;5;241m*\u001B[39margs, \u001B[38;5;241m*\u001B[39m\u001B[38;5;241m*\u001B[39mkwargs)\n\u001B[0;32m    138\u001B[0m flat_inputs \u001B[38;5;241m=\u001B[39m function\u001B[38;5;241m.\u001B[39mfunction_type\u001B[38;5;241m.\u001B[39munpack_inputs(bound_args)\n\u001B[1;32m--> 139\u001B[0m \u001B[38;5;28;01mreturn\u001B[39;00m \u001B[43mfunction\u001B[49m\u001B[38;5;241;43m.\u001B[39;49m\u001B[43m_call_flat\u001B[49m\u001B[43m(\u001B[49m\u001B[43m  \u001B[49m\u001B[38;5;66;43;03m# pylint: disable=protected-access\u001B[39;49;00m\n\u001B[0;32m    140\u001B[0m \u001B[43m    \u001B[49m\u001B[43mflat_inputs\u001B[49m\u001B[43m,\u001B[49m\u001B[43m \u001B[49m\u001B[43mcaptured_inputs\u001B[49m\u001B[38;5;241;43m=\u001B[39;49m\u001B[43mfunction\u001B[49m\u001B[38;5;241;43m.\u001B[39;49m\u001B[43mcaptured_inputs\u001B[49m\n\u001B[0;32m    141\u001B[0m \u001B[43m\u001B[49m\u001B[43m)\u001B[49m\n",
      "File \u001B[1;32m~\\PycharmProjects\\action_recognition\\venv\\lib\\site-packages\\tensorflow\\python\\eager\\polymorphic_function\\concrete_function.py:1322\u001B[0m, in \u001B[0;36mConcreteFunction._call_flat\u001B[1;34m(self, tensor_inputs, captured_inputs)\u001B[0m\n\u001B[0;32m   1318\u001B[0m possible_gradient_type \u001B[38;5;241m=\u001B[39m gradients_util\u001B[38;5;241m.\u001B[39mPossibleTapeGradientTypes(args)\n\u001B[0;32m   1319\u001B[0m \u001B[38;5;28;01mif\u001B[39;00m (possible_gradient_type \u001B[38;5;241m==\u001B[39m gradients_util\u001B[38;5;241m.\u001B[39mPOSSIBLE_GRADIENT_TYPES_NONE\n\u001B[0;32m   1320\u001B[0m     \u001B[38;5;129;01mand\u001B[39;00m executing_eagerly):\n\u001B[0;32m   1321\u001B[0m   \u001B[38;5;66;03m# No tape is watching; skip to running the function.\u001B[39;00m\n\u001B[1;32m-> 1322\u001B[0m   \u001B[38;5;28;01mreturn\u001B[39;00m \u001B[38;5;28;43mself\u001B[39;49m\u001B[38;5;241;43m.\u001B[39;49m\u001B[43m_inference_function\u001B[49m\u001B[38;5;241;43m.\u001B[39;49m\u001B[43mcall_preflattened\u001B[49m\u001B[43m(\u001B[49m\u001B[43margs\u001B[49m\u001B[43m)\u001B[49m\n\u001B[0;32m   1323\u001B[0m forward_backward \u001B[38;5;241m=\u001B[39m \u001B[38;5;28mself\u001B[39m\u001B[38;5;241m.\u001B[39m_select_forward_and_backward_functions(\n\u001B[0;32m   1324\u001B[0m     args,\n\u001B[0;32m   1325\u001B[0m     possible_gradient_type,\n\u001B[0;32m   1326\u001B[0m     executing_eagerly)\n\u001B[0;32m   1327\u001B[0m forward_function, args_with_tangents \u001B[38;5;241m=\u001B[39m forward_backward\u001B[38;5;241m.\u001B[39mforward()\n",
      "File \u001B[1;32m~\\PycharmProjects\\action_recognition\\venv\\lib\\site-packages\\tensorflow\\python\\eager\\polymorphic_function\\atomic_function.py:216\u001B[0m, in \u001B[0;36mAtomicFunction.call_preflattened\u001B[1;34m(self, args)\u001B[0m\n\u001B[0;32m    214\u001B[0m \u001B[38;5;28;01mdef\u001B[39;00m \u001B[38;5;21mcall_preflattened\u001B[39m(\u001B[38;5;28mself\u001B[39m, args: Sequence[core\u001B[38;5;241m.\u001B[39mTensor]) \u001B[38;5;241m-\u001B[39m\u001B[38;5;241m>\u001B[39m Any:\n\u001B[0;32m    215\u001B[0m \u001B[38;5;250m  \u001B[39m\u001B[38;5;124;03m\"\"\"Calls with flattened tensor inputs and returns the structured output.\"\"\"\u001B[39;00m\n\u001B[1;32m--> 216\u001B[0m   flat_outputs \u001B[38;5;241m=\u001B[39m \u001B[38;5;28;43mself\u001B[39;49m\u001B[38;5;241;43m.\u001B[39;49m\u001B[43mcall_flat\u001B[49m\u001B[43m(\u001B[49m\u001B[38;5;241;43m*\u001B[39;49m\u001B[43margs\u001B[49m\u001B[43m)\u001B[49m\n\u001B[0;32m    217\u001B[0m   \u001B[38;5;28;01mreturn\u001B[39;00m \u001B[38;5;28mself\u001B[39m\u001B[38;5;241m.\u001B[39mfunction_type\u001B[38;5;241m.\u001B[39mpack_output(flat_outputs)\n",
      "File \u001B[1;32m~\\PycharmProjects\\action_recognition\\venv\\lib\\site-packages\\tensorflow\\python\\eager\\polymorphic_function\\atomic_function.py:251\u001B[0m, in \u001B[0;36mAtomicFunction.call_flat\u001B[1;34m(self, *args)\u001B[0m\n\u001B[0;32m    249\u001B[0m \u001B[38;5;28;01mwith\u001B[39;00m record\u001B[38;5;241m.\u001B[39mstop_recording():\n\u001B[0;32m    250\u001B[0m   \u001B[38;5;28;01mif\u001B[39;00m \u001B[38;5;28mself\u001B[39m\u001B[38;5;241m.\u001B[39m_bound_context\u001B[38;5;241m.\u001B[39mexecuting_eagerly():\n\u001B[1;32m--> 251\u001B[0m     outputs \u001B[38;5;241m=\u001B[39m \u001B[38;5;28;43mself\u001B[39;49m\u001B[38;5;241;43m.\u001B[39;49m\u001B[43m_bound_context\u001B[49m\u001B[38;5;241;43m.\u001B[39;49m\u001B[43mcall_function\u001B[49m\u001B[43m(\u001B[49m\n\u001B[0;32m    252\u001B[0m \u001B[43m        \u001B[49m\u001B[38;5;28;43mself\u001B[39;49m\u001B[38;5;241;43m.\u001B[39;49m\u001B[43mname\u001B[49m\u001B[43m,\u001B[49m\n\u001B[0;32m    253\u001B[0m \u001B[43m        \u001B[49m\u001B[38;5;28;43mlist\u001B[39;49m\u001B[43m(\u001B[49m\u001B[43margs\u001B[49m\u001B[43m)\u001B[49m\u001B[43m,\u001B[49m\n\u001B[0;32m    254\u001B[0m \u001B[43m        \u001B[49m\u001B[38;5;28;43mlen\u001B[39;49m\u001B[43m(\u001B[49m\u001B[38;5;28;43mself\u001B[39;49m\u001B[38;5;241;43m.\u001B[39;49m\u001B[43mfunction_type\u001B[49m\u001B[38;5;241;43m.\u001B[39;49m\u001B[43mflat_outputs\u001B[49m\u001B[43m)\u001B[49m\u001B[43m,\u001B[49m\n\u001B[0;32m    255\u001B[0m \u001B[43m    \u001B[49m\u001B[43m)\u001B[49m\n\u001B[0;32m    256\u001B[0m   \u001B[38;5;28;01melse\u001B[39;00m:\n\u001B[0;32m    257\u001B[0m     outputs \u001B[38;5;241m=\u001B[39m make_call_op_in_graph(\n\u001B[0;32m    258\u001B[0m         \u001B[38;5;28mself\u001B[39m,\n\u001B[0;32m    259\u001B[0m         \u001B[38;5;28mlist\u001B[39m(args),\n\u001B[0;32m    260\u001B[0m         \u001B[38;5;28mself\u001B[39m\u001B[38;5;241m.\u001B[39m_bound_context\u001B[38;5;241m.\u001B[39mfunction_call_options\u001B[38;5;241m.\u001B[39mas_attrs(),\n\u001B[0;32m    261\u001B[0m     )\n",
      "File \u001B[1;32m~\\PycharmProjects\\action_recognition\\venv\\lib\\site-packages\\tensorflow\\python\\eager\\context.py:1500\u001B[0m, in \u001B[0;36mContext.call_function\u001B[1;34m(self, name, tensor_inputs, num_outputs)\u001B[0m\n\u001B[0;32m   1498\u001B[0m cancellation_context \u001B[38;5;241m=\u001B[39m cancellation\u001B[38;5;241m.\u001B[39mcontext()\n\u001B[0;32m   1499\u001B[0m \u001B[38;5;28;01mif\u001B[39;00m cancellation_context \u001B[38;5;129;01mis\u001B[39;00m \u001B[38;5;28;01mNone\u001B[39;00m:\n\u001B[1;32m-> 1500\u001B[0m   outputs \u001B[38;5;241m=\u001B[39m \u001B[43mexecute\u001B[49m\u001B[38;5;241;43m.\u001B[39;49m\u001B[43mexecute\u001B[49m\u001B[43m(\u001B[49m\n\u001B[0;32m   1501\u001B[0m \u001B[43m      \u001B[49m\u001B[43mname\u001B[49m\u001B[38;5;241;43m.\u001B[39;49m\u001B[43mdecode\u001B[49m\u001B[43m(\u001B[49m\u001B[38;5;124;43m\"\u001B[39;49m\u001B[38;5;124;43mutf-8\u001B[39;49m\u001B[38;5;124;43m\"\u001B[39;49m\u001B[43m)\u001B[49m\u001B[43m,\u001B[49m\n\u001B[0;32m   1502\u001B[0m \u001B[43m      \u001B[49m\u001B[43mnum_outputs\u001B[49m\u001B[38;5;241;43m=\u001B[39;49m\u001B[43mnum_outputs\u001B[49m\u001B[43m,\u001B[49m\n\u001B[0;32m   1503\u001B[0m \u001B[43m      \u001B[49m\u001B[43minputs\u001B[49m\u001B[38;5;241;43m=\u001B[39;49m\u001B[43mtensor_inputs\u001B[49m\u001B[43m,\u001B[49m\n\u001B[0;32m   1504\u001B[0m \u001B[43m      \u001B[49m\u001B[43mattrs\u001B[49m\u001B[38;5;241;43m=\u001B[39;49m\u001B[43mattrs\u001B[49m\u001B[43m,\u001B[49m\n\u001B[0;32m   1505\u001B[0m \u001B[43m      \u001B[49m\u001B[43mctx\u001B[49m\u001B[38;5;241;43m=\u001B[39;49m\u001B[38;5;28;43mself\u001B[39;49m\u001B[43m,\u001B[49m\n\u001B[0;32m   1506\u001B[0m \u001B[43m  \u001B[49m\u001B[43m)\u001B[49m\n\u001B[0;32m   1507\u001B[0m \u001B[38;5;28;01melse\u001B[39;00m:\n\u001B[0;32m   1508\u001B[0m   outputs \u001B[38;5;241m=\u001B[39m execute\u001B[38;5;241m.\u001B[39mexecute_with_cancellation(\n\u001B[0;32m   1509\u001B[0m       name\u001B[38;5;241m.\u001B[39mdecode(\u001B[38;5;124m\"\u001B[39m\u001B[38;5;124mutf-8\u001B[39m\u001B[38;5;124m\"\u001B[39m),\n\u001B[0;32m   1510\u001B[0m       num_outputs\u001B[38;5;241m=\u001B[39mnum_outputs,\n\u001B[1;32m   (...)\u001B[0m\n\u001B[0;32m   1514\u001B[0m       cancellation_manager\u001B[38;5;241m=\u001B[39mcancellation_context,\n\u001B[0;32m   1515\u001B[0m   )\n",
      "File \u001B[1;32m~\\PycharmProjects\\action_recognition\\venv\\lib\\site-packages\\tensorflow\\python\\eager\\execute.py:53\u001B[0m, in \u001B[0;36mquick_execute\u001B[1;34m(op_name, num_outputs, inputs, attrs, ctx, name)\u001B[0m\n\u001B[0;32m     51\u001B[0m \u001B[38;5;28;01mtry\u001B[39;00m:\n\u001B[0;32m     52\u001B[0m   ctx\u001B[38;5;241m.\u001B[39mensure_initialized()\n\u001B[1;32m---> 53\u001B[0m   tensors \u001B[38;5;241m=\u001B[39m \u001B[43mpywrap_tfe\u001B[49m\u001B[38;5;241;43m.\u001B[39;49m\u001B[43mTFE_Py_Execute\u001B[49m\u001B[43m(\u001B[49m\u001B[43mctx\u001B[49m\u001B[38;5;241;43m.\u001B[39;49m\u001B[43m_handle\u001B[49m\u001B[43m,\u001B[49m\u001B[43m \u001B[49m\u001B[43mdevice_name\u001B[49m\u001B[43m,\u001B[49m\u001B[43m \u001B[49m\u001B[43mop_name\u001B[49m\u001B[43m,\u001B[49m\n\u001B[0;32m     54\u001B[0m \u001B[43m                                      \u001B[49m\u001B[43minputs\u001B[49m\u001B[43m,\u001B[49m\u001B[43m \u001B[49m\u001B[43mattrs\u001B[49m\u001B[43m,\u001B[49m\u001B[43m \u001B[49m\u001B[43mnum_outputs\u001B[49m\u001B[43m)\u001B[49m\n\u001B[0;32m     55\u001B[0m \u001B[38;5;28;01mexcept\u001B[39;00m core\u001B[38;5;241m.\u001B[39m_NotOkStatusException \u001B[38;5;28;01mas\u001B[39;00m e:\n\u001B[0;32m     56\u001B[0m   \u001B[38;5;28;01mif\u001B[39;00m name \u001B[38;5;129;01mis\u001B[39;00m \u001B[38;5;129;01mnot\u001B[39;00m \u001B[38;5;28;01mNone\u001B[39;00m:\n",
      "\u001B[1;31mKeyboardInterrupt\u001B[0m: "
     ]
    }
   ],
   "execution_count": 30
  },
  {
   "metadata": {
    "ExecuteTime": {
     "end_time": "2024-04-15T22:11:52.973067Z",
     "start_time": "2024-04-15T22:11:52.972070Z"
    }
   },
   "cell_type": "code",
   "source": [
    "train_loss = history.history['loss'][-1]\n",
    "train_accuracy = history.history['sparse_categorical_accuracy'][-1]\n",
    "test_loss = history.history['val_loss'][-1]\n",
    "test_accuracy = history.history['val_sparse_categorical_accuracy'][-1]\n",
    "print(f\"Train loss: {train_loss:.4f}, Train accuracy: {train_accuracy:.4f}\")\n",
    "print(f\"Test loss: {test_loss:.4f}, Test accuracy: {test_accuracy:.4f}\")"
   ],
   "id": "b390ca28d1faa861",
   "outputs": [],
   "execution_count": null
  },
  {
   "metadata": {},
   "cell_type": "code",
   "source": "model.save('my_model_200.keras')",
   "id": "615c4c402ce0b6f8",
   "outputs": [],
   "execution_count": null
  },
  {
   "metadata": {},
   "cell_type": "code",
   "source": [
    "\n",
    "image_labels = ['country line dancing',\n",
    " 'tango dancing',\n",
    " 'swing dancing',\n",
    " 'jumpstyle dancing',\n",
    " 'dancing gangnam style',\n",
    " 'square dancing',\n",
    " 'dancing charleston',\n",
    " 'salsa dancing',\n",
    " 'mosh pit dancing',\n",
    " 'robot dancing',\n",
    " 'tap dancing',\n",
    " 'breakdancing',\n",
    " 'belly dancing',\n",
    " 'dancing ballet',\n",
    " 'dancing macarena']\n"
   ],
   "id": "f801f2a33570d974",
   "outputs": [],
   "execution_count": null
  },
  {
   "metadata": {},
   "cell_type": "code",
   "source": [
    "video = 'x0LzgIUDIes'\n",
    "image_names = frames_df.loc[frames_df['video'] == video, 'frame_path']"
   ],
   "id": "fcc01bbfbadc95f1",
   "outputs": [],
   "execution_count": null
  },
  {
   "metadata": {},
   "cell_type": "code",
   "source": [
    "classes = []\n",
    "prob = []\n",
    "\n",
    "for image_name in image_names:\n",
    "    image = tf.io.read_file(image_name)\n",
    "    image = tf.image.decode_jpeg(image, channels = 3)\n",
    "    image = tf.image.resize(image, [224,224])\n",
    "    image = np.expand_dims(image, axis=0)\n",
    "    image = image / 225\n",
    "    pred = model.predict(image)\n",
    "    predicted_label_index = np.argmax(pred[0])\n",
    "    probability = pred[0][predicted_label_index]\n",
    "    # print(f\"Предсказанный класс: {image_labels[predicted_label_index]}, Вероятность: {probability:.4f}\")\n",
    "    classes.append(image_labels[predicted_label_index])\n",
    "    prob.append(probability)"
   ],
   "id": "d95a2d43a4c30f77",
   "outputs": [],
   "execution_count": null
  },
  {
   "metadata": {},
   "cell_type": "code",
   "source": [
    "dict = pd.DataFrame({'label': classes, 'probability': prob})\n",
    "max_dict_prob = dict.mode()['probability'].max()\n",
    "pdict = dict[dict['label'] == f\"{dict.mode()['label'][0]}\"]"
   ],
   "id": "238d773f69afda33",
   "outputs": [],
   "execution_count": null
  },
  {
   "metadata": {},
   "cell_type": "code",
   "source": [
    "print(f\"Класс видео: {frames_df.loc[frames_df['video'] == video, 'label'].values[0]}\")\n",
    "print(\"_______________________________________\")\n",
    "print(\"Предсказанные классы по фреймам:\")\n",
    "print(dict)\n",
    "print(f\"Наиболее встречающийся класс: {dict.mode()['label'][0]} , средняя вероятность {pdict['probability'].mean()}\")\n",
    "print(f\"Наибольшая вероятность: {max_dict_prob}, класс {dict.loc[dict['probability'] == max_dict_prob, 'label'].values[0]}\")"
   ],
   "id": "1b7d4c20ccc7a9a2",
   "outputs": [],
   "execution_count": null
  },
  {
   "metadata": {},
   "cell_type": "markdown",
   "source": [
    "Видео: x0LzgIUDIes\n",
    "Модель на 20 кадров в видео\n",
    "Класс видео: mosh pit dancing\n",
    "_______________________________________\n",
    "Предсказанные классы по фреймам:\n",
    "                label  probability\n",
    "0   jumpstyle dancing     0.153224\n",
    "1   jumpstyle dancing     0.146594\n",
    "2   jumpstyle dancing     0.151000\n",
    "3   jumpstyle dancing     0.141237\n",
    "4   jumpstyle dancing     0.131609\n",
    "5   jumpstyle dancing     0.169623\n",
    "6   jumpstyle dancing     0.172320\n",
    "7   jumpstyle dancing     0.180115\n",
    "8       belly dancing     0.124170\n",
    "9    dancing macarena     0.122473\n",
    "10   dancing macarena     0.161632\n",
    "11   dancing macarena     0.131638\n",
    "12      belly dancing     0.123214\n",
    "13   mosh pit dancing     0.214120\n",
    "14   mosh pit dancing     0.205695\n",
    "15   mosh pit dancing     0.295078\n",
    "16     square dancing     0.211966\n",
    "17   mosh pit dancing     0.280752\n",
    "18   mosh pit dancing     0.335356\n",
    "19   mosh pit dancing     0.221957\n",
    "20   mosh pit dancing     0.236604\n",
    "Наиболее встречающийся класс: jumpstyle dancing , средняя вероятность 0.15571531653404236\n",
    "Наибольшая вероятность: 0.33535560965538025, класс mosh pit dancing"
   ],
   "id": "5152381e048d689f"
  }
 ],
 "metadata": {
  "kernelspec": {
   "display_name": "Python 3",
   "language": "python",
   "name": "python3"
  },
  "language_info": {
   "codemirror_mode": {
    "name": "ipython",
    "version": 2
   },
   "file_extension": ".py",
   "mimetype": "text/x-python",
   "name": "python",
   "nbconvert_exporter": "python",
   "pygments_lexer": "ipython2",
   "version": "2.7.6"
  }
 },
 "nbformat": 4,
 "nbformat_minor": 5
}
