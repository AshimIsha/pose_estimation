{
 "cells": [
  {
   "cell_type": "code",
   "outputs": [],
   "source": [
    "import os\n",
    "import pandas as pd\n",
    "from pytube import YouTube"
   ],
   "metadata": {
    "collapsed": false,
    "ExecuteTime": {
     "end_time": "2024-04-10T00:43:44.956259Z",
     "start_time": "2024-04-10T00:43:44.950275Z"
    }
   },
   "id": "663cab2ddbbc6882",
   "execution_count": 44
  },
  {
   "cell_type": "code",
   "outputs": [],
   "source": [
    "data = pd.read_csv(\"train.csv\")\n",
    "df = data[data.label.str.contains('dancing')]\n",
    "df"
   ],
   "metadata": {
    "collapsed": false,
    "ExecuteTime": {
     "end_time": "2024-04-10T00:43:46.252791Z",
     "start_time": "2024-04-10T00:43:44.980198Z"
    }
   },
   "id": "7e5523fa1c9113d4",
   "execution_count": 45
  },
  {
   "cell_type": "code",
   "outputs": [],
   "source": [
    "new_df = pd.DataFrame()\n",
    "label_values = df['label'].unique()\n",
    "for label in label_values:\n",
    "    label_data = df[df['label'] == label].sample(50, random_state = 2024)\n",
    "    new_df = pd.concat([new_df, label_data])\n",
    "\n",
    "os.makedirs(\"videos\", exist_ok=True)\n",
    "new_df"
   ],
   "metadata": {
    "collapsed": false,
    "ExecuteTime": {
     "end_time": "2024-04-10T00:43:46.394412Z",
     "start_time": "2024-04-10T00:43:46.285705Z"
    }
   },
   "id": "4f7be700eadc9fc4",
   "execution_count": 47
  },
  {
   "cell_type": "code",
   "outputs": [],
   "source": [
    "output_dir= 'videos'\n"
   ],
   "metadata": {
    "collapsed": false,
    "ExecuteTime": {
     "end_time": "2024-04-10T00:43:46.441287Z",
     "start_time": "2024-04-10T00:43:46.427326Z"
    }
   },
   "id": "9087ebf9bcedd5cd",
   "execution_count": 49
  },
  {
   "cell_type": "code",
   "outputs": [],
   "source": [
    "def on_progress(stream, chunk, bytes_remaining):\n",
    "    total_size = stream.filesize\n",
    "    bytes_downloaded = total_size - bytes_remaining\n",
    "    percentage = (bytes_downloaded / total_size) * 100\n",
    "    print(f\"Загружено: {bytes_downloaded} байт из {total_size} байт ({percentage:.2f}%)\")"
   ],
   "metadata": {
    "collapsed": false,
    "ExecuteTime": {
     "end_time": "2024-04-10T00:43:46.457246Z",
     "start_time": "2024-04-10T00:43:46.443282Z"
    }
   },
   "id": "24f1cdd8501deff4",
   "execution_count": 50
  },
  {
   "cell_type": "markdown",
   "source": [],
   "metadata": {
    "collapsed": false
   },
   "id": "6d59782e3fb06b46"
  },
  {
   "cell_type": "code",
   "outputs": [],
   "source": [
    "for index, row in new_df.iterrows():\n",
    "    url = \"https://www.youtube.com/watch?v=\" + row['youtube_id']\n",
    "    yt = YouTube(url, on_progress_callback=on_progress)\n",
    "    video = yt.streams.filter(progressive=True, file_extension='mp4').order_by('resolution').desc().first()\n",
    "    \n",
    "    # Новое имя файла\n",
    "    new_filename = row['youtube_id'] + '.mp4'\n",
    "    \n",
    "    # Проверяем, существует ли файл с новым именем\n",
    "    if os.path.exists(new_filename):\n",
    "        print(f\"Файл {new_filename} уже существует. Пропускаем загрузку.\")\n",
    "    else:\n",
    "        # Загружаем видео с новым именем\n",
    "    video.download(output_path=output_dir, filename=new_filename)"
   ],
   "metadata": {
    "collapsed": false,
    "ExecuteTime": {
     "end_time": "2024-04-12T18:31:10.670316Z",
     "start_time": "2024-04-12T18:04:55.373832Z"
    }
   },
   "id": "9272551bb5e878cc",
   "execution_count": 551
  },
  {
   "cell_type": "code",
   "outputs": [],
   "source": [
    "new_df = new_df[new_df['youtube_id'] != 'lNtBbrvdyjU']"
   ],
   "metadata": {
    "collapsed": false,
    "ExecuteTime": {
     "end_time": "2024-04-12T17:13:10.931325Z",
     "start_time": "2024-04-12T17:13:10.914385Z"
    }
   },
   "id": "ed9d7dad2890f11b",
   "execution_count": 545
  },
  {
   "cell_type": "markdown",
   "source": [
    "VideoPrivate: /// is a private video\n",
    "AgeRestrictedError: /// is age restricted, and can't be accessed without logging in.\n",
    "VideoUnavailable: /// is unavailable\n"
   ],
   "metadata": {
    "collapsed": false
   },
   "id": "373477f25a6ccf29"
  },
  {
   "cell_type": "code",
   "outputs": [],
   "source": [
    "new_df.to_csv('new_df.csv',index=False)"
   ],
   "metadata": {
    "collapsed": false,
    "ExecuteTime": {
     "end_time": "2024-04-12T20:28:16.538687Z",
     "start_time": "2024-04-12T20:28:16.528600Z"
    }
   },
   "id": "b6543fd29243cac2",
   "execution_count": 552
  },
  {
   "cell_type": "code",
   "outputs": [],
   "source": [
    "n_df = new_df.iloc[::-1]"
   ],
   "metadata": {
    "collapsed": false,
    "ExecuteTime": {
     "end_time": "2024-04-12T17:13:16.785830Z",
     "start_time": "2024-04-12T17:13:16.768644Z"
    }
   },
   "id": "4f0a6f2e5488ce15",
   "execution_count": 547
  }
 ],
 "metadata": {
  "kernelspec": {
   "display_name": "Python 3",
   "language": "python",
   "name": "python3"
  },
  "language_info": {
   "codemirror_mode": {
    "name": "ipython",
    "version": 2
   },
   "file_extension": ".py",
   "mimetype": "text/x-python",
   "name": "python",
   "nbconvert_exporter": "python",
   "pygments_lexer": "ipython2",
   "version": "2.7.6"
  }
 },
 "nbformat": 4,
 "nbformat_minor": 5
}
